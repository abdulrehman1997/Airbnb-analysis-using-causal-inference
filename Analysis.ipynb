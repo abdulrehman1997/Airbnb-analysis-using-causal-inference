{
 "cells": [
  {
   "cell_type": "code",
   "execution_count": 1,
   "metadata": {},
   "outputs": [],
   "source": [
    "import pandas as pd\n",
    "import herepy\n",
    "from tqdm.notebook import tqdm\n",
    "from collections import defaultdict\n",
    "import re\n",
    "import requests\n",
    "import urllib\n",
    "import xmltodict\n",
    "import json\n",
    "import numpy as np\n",
    "#packages for R in python\n",
    "import rpy2.robjects as ro\n",
    "from rpy2.robjects import r, pandas2ri\n",
    "from rpy2.robjects.packages import importr\n",
    "#CPD\n",
    "from pgmpy.models import BayesianModel\n",
    "import pgmpy\n",
    "# from pgmpy.estimators import ConstraintBasedEstimator\n",
    "#bnlearn\n",
    "import bnlearn\n",
    "import torch\n",
    "import pyro\n",
    "import pyro.distributions as dist\n",
    "from statistics import mean\n",
    "from pyro.infer import Importance, EmpiricalMarginal\n",
    "import matplotlib.pyplot as plt\n",
    "from collections import defaultdict\n",
    "from IPython.display import Image\n",
    "\n",
    "%matplotlib inline"
   ]
  },
  {
   "cell_type": "code",
   "execution_count": 3,
   "metadata": {},
   "outputs": [
    {
     "data": {
      "text/plain": [
       "array(['t', 'f'], dtype=object)"
      ]
     },
     "execution_count": 3,
     "metadata": {},
     "output_type": "execute_result"
    }
   ],
   "source": [
    "listings = pd.read_csv('data/listings.csv')\n",
    "listings['is_location_exact'].unique()"
   ]
  },
  {
   "cell_type": "code",
   "execution_count": 4,
   "metadata": {},
   "outputs": [],
   "source": [
    "listings = listings[listings['is_location_exact'] == 't']"
   ]
  },
  {
   "cell_type": "code",
   "execution_count": 4,
   "metadata": {},
   "outputs": [],
   "source": [
    "listings = listings[listings['property_type'].isin(['Apartment','Condominium'])]"
   ]
  },
  {
   "cell_type": "code",
   "execution_count": 5,
   "metadata": {},
   "outputs": [],
   "source": [
    "listings = listings[listings['room_type']=='Entire home/apt']"
   ]
  },
  {
   "cell_type": "code",
   "execution_count": 6,
   "metadata": {},
   "outputs": [],
   "source": [
    "listings = listings[listings['calendar_updated'].isin(['today','yesterday','2 days ago',\n",
    "                                                       '3 days ago','4 days ago','5 days ago',\n",
    "                                                       '6 days ago','a week ago','1 week ago',\n",
    "                                                       '2 weeks ago','3 weeks ago','4 weeks ago',\n",
    "                                                       '5 weeks ago','6 weeks ago','7 weeks ago',\n",
    "                                                       '2 months ago','3 months ago','4 months ago',\n",
    "                                                       '5 months ago','6 months ago','7 months ago',\n",
    "                                                       '8 months ago','9 months ago','10 months ago',\n",
    "                                                       '11 months ago','12 months ago'])]"
   ]
  },
  {
   "cell_type": "code",
   "execution_count": 7,
   "metadata": {},
   "outputs": [],
   "source": [
    "listings = listings[listings['first_review'].notnull()]"
   ]
  },
  {
   "cell_type": "code",
   "execution_count": 11,
   "metadata": {},
   "outputs": [],
   "source": [
    "import geopandas as gpd\n",
    "import geopy\n",
    "from geopy.geocoders import Nominatim\n",
    "from geopy.extra.rate_limiter import RateLimiter"
   ]
  },
  {
   "cell_type": "code",
   "execution_count": 39,
   "metadata": {},
   "outputs": [],
   "source": [
    "def herePy(coordinate1,coordinate2):\n",
    "    coordinates = coordinate1+','+coordinate2\n",
    "    locator = Nominatim(user_agent=\"myGeocoder\")\n",
    "    address = locator.reverse(coordinates)\n",
    "    address = address.raw\n",
    "    return pd.Series([address.get('display_name',None),\n",
    "                      address['address'].get('house_number',address['address'].get('building',None)),\n",
    "                      address['address'].get('road',None),\n",
    "                      address['address'].get('country',None),\n",
    "                      address['address'].get('postcode',None)],\n",
    "                     index=['Address','House','Street','Country',\n",
    "                            'PostalCode'])"
   ]
  },
  {
   "cell_type": "code",
   "execution_count": 41,
   "metadata": {},
   "outputs": [
    {
     "data": {
      "text/plain": [
       "Address       135, Beacon Street, Beacon Hill, Boston, Suffo...\n",
       "House                                                       135\n",
       "Street                                            Beacon Street\n",
       "Country                                United States of America\n",
       "PostalCode                                                02116\n",
       "dtype: object"
      ]
     },
     "execution_count": 41,
     "metadata": {},
     "output_type": "execute_result"
    }
   ],
   "source": [
    "# locator = Nominatim(user_agent=\"myGeocoder\")\n",
    "# coordinates = '42.3547464,-71.0740765'\n",
    "# location = locator.reverse(coordinates)\n",
    "# location.raw\n",
    "herePy('42.3547464','-71.0740765')"
   ]
  },
  {
   "cell_type": "code",
   "execution_count": 42,
   "metadata": {},
   "outputs": [
    {
     "data": {
      "application/vnd.jupyter.widget-view+json": {
       "model_id": "22b4822ce5fe46b6b3aa681ade0f2451",
       "version_major": 2,
       "version_minor": 0
      },
      "text/plain": [
       "HBox(children=(HTML(value=''), FloatProgress(value=0.0, max=1301.0), HTML(value='')))"
      ]
     },
     "metadata": {},
     "output_type": "display_data"
    },
    {
     "name": "stdout",
     "output_type": "stream",
     "text": [
      "\n"
     ]
    }
   ],
   "source": [
    "listings[['Address','HouseNumber','Street','Country','PostalCode']] = listings.progress_apply(lambda row: herePy(str(row['latitude']), str(row['longitude'])) , axis=1)"
   ]
  },
  {
   "cell_type": "code",
   "execution_count": 43,
   "metadata": {},
   "outputs": [],
   "source": [
    "lisiting_manual = pd.read_csv('data/listings_manual.csv')\n",
    "listings_full   = lisiting_manual.merge(listings,on='id')"
   ]
  },
  {
   "cell_type": "code",
   "execution_count": 44,
   "metadata": {},
   "outputs": [],
   "source": [
    "no_unique_columns = [x for y,x in enumerate(listings_full.columns) if len(set(list(listings_full[x])))==1]\n",
    "listings_full = listings_full.drop(columns=no_unique_columns).reset_index(drop=True)"
   ]
  },
  {
   "cell_type": "code",
   "execution_count": 45,
   "metadata": {},
   "outputs": [],
   "source": [
    "i = (0.04/12)   # Interest rate divided by 12\n",
    "dr = 0.80       # Principal for mortgage\n",
    "n  = 15*12      # 15 years mortgage\n",
    "multiplier = (i*((1+i)**n))/(((1+i)**n)-1) # compound interest formula\n",
    "listings_full['mortgage_p_month'] = (listings_full['Zestimate'].astype(float)*multiplier*dr).astype(int)"
   ]
  },
  {
   "cell_type": "code",
   "execution_count": 46,
   "metadata": {},
   "outputs": [],
   "source": [
    "listings_full['annual_tax']  = (listings_full['Zestimate'].astype(float)*0.00804).astype(int)"
   ]
  },
  {
   "cell_type": "code",
   "execution_count": 47,
   "metadata": {},
   "outputs": [],
   "source": [
    "listings_full['ins_p_month'] = (listings_full['Zestimate'].astype(float)*0.00035).astype(int)"
   ]
  },
  {
   "cell_type": "code",
   "execution_count": 48,
   "metadata": {},
   "outputs": [],
   "source": [
    "listings_full['price'] = listings_full['price'].str.replace('$','')\n",
    "listings_full['price'] = listings_full['price'].str.replace(',','').astype(float)"
   ]
  },
  {
   "cell_type": "code",
   "execution_count": 50,
   "metadata": {},
   "outputs": [],
   "source": [
    "listings_full['roi'] = (listings_full['price']*340 - (\n",
    "    (listings_full['mortgage_p_month']+ listings_full['ins_p_month'])*12 +\n",
    "    listings_full['mortgage_p_month']))/(0.2*listings_full['Zestimate'].astype(float))*100"
   ]
  },
  {
   "cell_type": "code",
   "execution_count": 51,
   "metadata": {},
   "outputs": [],
   "source": [
    "# Function to query `walkscore.com` to get the score for walking, transit and biking score\n",
    "def walkScore(address,lat,lon,api,transit=1,bike=1):\n",
    "    add  = re.sub('\\s', '%', address)\n",
    "    latitude = \"&lat=\"+str(lat)\n",
    "    longitude= \"&lon=\"+str(lon)\n",
    "    tran_code= \"&transit=\"+str(transit)\n",
    "    bike_code= \"&bike=\"+str(bike)\n",
    "    api_key  = \"&wsapikey=\"+api\n",
    "    api_url  = \"http://api.walkscore.com/score?format=json&address=\"\n",
    "    r = requests.get(api_url+add+latitude+longitude+tran_code+bike_code+api_key).json()\n",
    "    walkScore = r['walkscore']\n",
    "    bikeScore = r['bike']['score']\n",
    "    trasitScore = r['transit']['score']\n",
    "    return pd.Series([walkScore,bikeScore,trasitScore],index=['walkScore','bikeScore','transitScore'])"
   ]
  },
  {
   "cell_type": "code",
   "execution_count": 54,
   "metadata": {},
   "outputs": [
    {
     "name": "stderr",
     "output_type": "stream",
     "text": [
      "/Users/abdulrehman/opt/anaconda3/envs/Airbnb_Analysis/lib/python3.8/site-packages/tqdm/std.py:699: FutureWarning: The Panel class is removed from pandas. Accessing it from the top-level namespace will also be removed in the next version\n",
      "  from pandas import Panel\n"
     ]
    },
    {
     "data": {
      "application/vnd.jupyter.widget-view+json": {
       "model_id": "fd55269129374dbf86b82cdad35529af",
       "version_major": 2,
       "version_minor": 0
      },
      "text/plain": [
       "HBox(children=(HTML(value=''), FloatProgress(value=0.0, max=200.0), HTML(value='')))"
      ]
     },
     "metadata": {},
     "output_type": "display_data"
    },
    {
     "name": "stdout",
     "output_type": "stream",
     "text": [
      "\n"
     ]
    }
   ],
   "source": [
    "walkscoreAPI = 'b12d2c039749ebd2e8f67ffe0d9f2b83'\n",
    "tqdm.pandas()\n",
    "listings_full[['walkScore','bikeScore','transitScore']] = listings_full.progress_apply(\n",
    "    lambda row:walkScore(row['Address'],row['latitude'], row['longitude'],api=walkscoreAPI), axis=1)"
   ]
  },
  {
   "cell_type": "code",
   "execution_count": 55,
   "metadata": {},
   "outputs": [],
   "source": [
    "def schoolsNearMe(lat,lon,radius,greatSchoolsAPi):\n",
    "    url_base  = \"https://api.greatschools.org/schools/nearby?key=\"\n",
    "    api       = greatSchoolsAPi+\"&state=MA\"\n",
    "    lat_url   = \"&lat=\"+str(lat)\n",
    "    lon_url   = \"&lon=\"+str(lon)\n",
    "    radius_url= \"&radius=\"+str(radius)\n",
    "\n",
    "    url       =  url_base+api+lat_url+lon_url+radius_url\n",
    "\n",
    "    contents = urllib.request.urlopen(url).read()\n",
    "    my_dict=xmltodict.parse(contents)\n",
    "    json_data=json.dumps(my_dict)\n",
    "    json_data2 = json.loads(json_data)\n",
    "    \n",
    "    lister = [int(x['gsRating']) for x in json_data2['schools']['school'] if 'gsRating' in x.keys()]\n",
    "\n",
    "    score = sum(lister)/len(lister)\n",
    "    return pd.Series([score],index=['publicSchoolScores '])"
   ]
  },
  {
   "cell_type": "code",
   "execution_count": null,
   "metadata": {},
   "outputs": [],
   "source": [
    "greatSchoolsAPi= #Enter API\n",
    "listings_full[['publicSchoolScores']] = listings_full.progress_apply(lambda row: schoolsNearMe(row['latitude'], row['longitude'],radius=2,greatSchoolsAPi) , axis=1)"
   ]
  },
  {
   "cell_type": "code",
   "execution_count": 2,
   "metadata": {},
   "outputs": [],
   "source": [
    "listings_full = pd.read_csv('data/listings_full.csv')"
   ]
  },
  {
   "cell_type": "code",
   "execution_count": 3,
   "metadata": {},
   "outputs": [],
   "source": [
    "listings_subset = listings_full[['id','Zestimate','bedrooms','bathrooms','beds','accommodates','amenities_score',\n",
    "               'bikeScore','walkScore','transitScore','neighbourhood_cleansed','property_type',\n",
    "               'publicSchoolScores','closenessToDowntown','price','minimum_nights_avg_ntm','roi']]\n",
    "pd.options.mode.chained_assignment = None \n",
    "listings_subset['property_type'] = listings_subset['property_type'].astype('category')\n",
    "listings_subset['bathrooms'] = listings_subset['bathrooms'].astype('category')\n",
    "listings_subset['neighbourhood'] = listings_subset['neighbourhood_cleansed'].astype('category')\n",
    "del listings_subset['neighbourhood_cleansed']\n",
    "\n",
    "listings_subset['roi'] = listings_subset['roi'].astype('float')\n",
    "listings_subset['Zestimate'] = listings_subset['Zestimate'].astype('float')\n",
    "listings_subset['bedrooms'] = listings_subset['bedrooms'].astype('float')\n",
    "listings_subset['beds'] = listings_subset['beds'].astype('float')\n",
    "listings_subset['accommodates'] = listings_subset['accommodates'].astype('float')\n",
    "listings_subset['amenities_score'] = listings_subset['amenities_score'].astype('float')\n",
    "listings_subset['publicSchoolScores'] = listings_subset['publicSchoolScores'].astype('float')\n",
    "listings_subset['closenessToDowntown'] = listings_subset['closenessToDowntown'].astype('float')\n",
    "listings_subset['price'] = listings_subset['price'].astype('float')\n",
    "listings_subset['minimum_nights_avg_ntm'] = listings_subset['minimum_nights_avg_ntm'].astype('float')\n",
    "pd.options.mode.chained_assignment = 'warn'"
   ]
  },
  {
   "cell_type": "code",
   "execution_count": 4,
   "metadata": {},
   "outputs": [],
   "source": [
    "listing_cat = listings_subset[['bathrooms','bikeScore','walkScore','transitScore','property_type','neighbourhood']]\n",
    "listings_n_cat = listings_subset[['roi','Zestimate','bedrooms','beds','accommodates','amenities_score','publicSchoolScores','closenessToDowntown','price','minimum_nights_avg_ntm']]"
   ]
  },
  {
   "cell_type": "code",
   "execution_count": 5,
   "metadata": {},
   "outputs": [],
   "source": [
    "def rDiscretize(data):\n",
    "    utils = importr('utils')\n",
    "    utils.install_packages('bnlearn')\n",
    "    # utils.install_packages('base')\n",
    "    bnlearnR = importr('bnlearn')\n",
    "    bnDiscretize = bnlearnR.discretize\n",
    "    # Import Functions\n",
    "    pandas2ri.activate()\n",
    "    r_dt = ro.conversion.py2rpy(data) #convert pandas to RDataframe\n",
    "    r_dt2 = bnDiscretize(r_dt,method= \"hartemink\", breaks = 3, ibreaks=3)\n",
    "    pd_dt = ro.conversion.rpy2py(r_dt2)\n",
    "    pd_dt.reset_index(drop=True)\n",
    "    return pd_dt"
   ]
  },
  {
   "cell_type": "code",
   "execution_count": 6,
   "metadata": {},
   "outputs": [
    {
     "name": "stdout",
     "output_type": "stream",
     "text": [
      "--- Please select a CRAN mirror for use in this session ---\n",
      "Secure CRAN mirrors \n",
      "\n",
      " 1: 0-Cloud [https]\n",
      " 2: Australia (Canberra) [https]\n",
      " 3: Australia (Melbourne 1) [https]\n",
      " 4: Australia (Melbourne 2) [https]\n",
      " 5: Australia (Perth) [https]\n",
      " 6: Austria [https]\n",
      " 7: Belgium (Ghent) [https]\n",
      " 8: Brazil (BA) [https]\n",
      " 9: Brazil (PR) [https]\n",
      "10: Brazil (RJ) [https]\n",
      "11: Brazil (SP 1) [https]\n",
      "12: Brazil (SP 2) [https]\n",
      "13: Bulgaria [https]\n",
      "14: Canada (MB) [https]\n",
      "15: Chile (Santiago) [https]\n",
      "16: China (Beijing 2) [https]\n",
      "17: China (Hefei) [https]\n",
      "18: China (Hong Kong) [https]\n",
      "19: China (Guangzhou) [https]\n",
      "20: China (Lanzhou) [https]\n",
      "21: China (Nanjing) [https]\n",
      "22: China (Shanghai 1) [https]\n",
      "23: China (Shanghai 2) [https]\n",
      "24: Costa Rica [https]\n",
      "25: Denmark [https]\n",
      "26: East Asia [https]\n",
      "27: Ecuador (Cuenca) [https]\n",
      "28: Ecuador (Quito) [https]\n",
      "29: Estonia [https]\n",
      "30: France (Lyon 1) [https]\n",
      "31: France (Lyon 2) [https]\n",
      "32: France (Marseille) [https]\n",
      "33: France (Montpellier) [https]\n",
      "34: Germany (Erlangen) [https]\n",
      "35: Germany (Leipzig) [https]\n",
      "36: Germany (Göttingen) [https]\n",
      "37: Germany (Münster) [https]\n",
      "38: Germany (Regensburg) [https]\n",
      "39: Greece [https]\n",
      "40: Hungary [https]\n",
      "41: Iceland [https]\n",
      "42: India [https]\n",
      "43: Indonesia (Jakarta) [https]\n",
      "44: Iran [https]\n",
      "45: Italy (Milano) [https]\n",
      "46: Italy (Padua) [https]\n",
      "47: Japan (Tokyo) [https]\n",
      "48: Korea (Gyeongsan-si) [https]\n",
      "49: Korea (Seoul 1) [https]\n",
      "50: Korea (Ulsan) [https]\n",
      "51: Malaysia [https]\n",
      "52: Mexico (Mexico City) [https]\n",
      "53: Morocco [https]\n",
      "54: Netherlands [https]\n",
      "55: Norway [https]\n",
      "56: Philippines [https]\n",
      "57: Russia (Moscow) [https]\n",
      "58: South Africa (Johannesburg) [https]\n",
      "59: Spain (A Coruña) [https]\n",
      "60: Spain (Madrid) [https]\n",
      "61: Sweden (Borås) [https]\n",
      "62: Sweden (Umeå) [https]\n",
      "63: Switzerland [https]\n",
      "64: Taiwan (Taipei) [https]\n",
      "65: Turkey (Denizli) [https]\n",
      "66: Turkey (Istanbul) [https]\n",
      "67: Turkey (Mersin) [https]\n",
      "68: UK (Bristol) [https]\n",
      "69: UK (London 1) [https]\n",
      "70: USA (IA) [https]\n",
      "71: USA (KS) [https]\n",
      "72: USA (MI) [https]\n",
      "73: USA (OH) [https]\n",
      "74: USA (OR) [https]\n",
      "75: USA (TN) [https]\n",
      "76: Uruguay [https]\n",
      "77: (other mirrors)\n",
      "\n",
      "Selection: 73\n"
     ]
    },
    {
     "name": "stderr",
     "output_type": "stream",
     "text": [
      "R[write to console]: trying URL 'https://cran.case.edu/bin/macosx/el-capitan/contrib/3.6/bnlearn_4.6.1.tgz'\n",
      "\n",
      "R[write to console]: Content type 'application/x-gzip'\n",
      "R[write to console]:  length 2653896 bytes (2.5 MB)\n",
      "\n",
      "R[write to console]: =\n",
      "R[write to console]: =\n",
      "R[write to console]: =\n",
      "R[write to console]: =\n",
      "R[write to console]: =\n",
      "R[write to console]: =\n",
      "R[write to console]: =\n",
      "R[write to console]: =\n",
      "R[write to console]: =\n",
      "R[write to console]: =\n",
      "R[write to console]: =\n",
      "R[write to console]: =\n",
      "R[write to console]: =\n",
      "R[write to console]: =\n",
      "R[write to console]: =\n",
      "R[write to console]: =\n",
      "R[write to console]: =\n",
      "R[write to console]: =\n",
      "R[write to console]: =\n",
      "R[write to console]: =\n",
      "R[write to console]: =\n",
      "R[write to console]: =\n",
      "R[write to console]: =\n",
      "R[write to console]: =\n",
      "R[write to console]: =\n",
      "R[write to console]: =\n",
      "R[write to console]: =\n",
      "R[write to console]: =\n",
      "R[write to console]: =\n",
      "R[write to console]: =\n",
      "R[write to console]: =\n",
      "R[write to console]: =\n",
      "R[write to console]: =\n",
      "R[write to console]: =\n",
      "R[write to console]: =\n",
      "R[write to console]: =\n",
      "R[write to console]: =\n",
      "R[write to console]: =\n",
      "R[write to console]: =\n",
      "R[write to console]: =\n",
      "R[write to console]: =\n",
      "R[write to console]: =\n",
      "R[write to console]: =\n",
      "R[write to console]: =\n",
      "R[write to console]: =\n",
      "R[write to console]: =\n",
      "R[write to console]: =\n",
      "R[write to console]: =\n",
      "R[write to console]: =\n",
      "R[write to console]: =\n",
      "R[write to console]: \n",
      "\n",
      "R[write to console]: downloaded 2.5 MB\n",
      "\n",
      "\n"
     ]
    },
    {
     "name": "stdout",
     "output_type": "stream",
     "text": [
      "\n",
      "The downloaded binary packages are in\n",
      "\t/var/folders/40/1cmwtr_5693092wp0mnttzgh0000gn/T//Rtmp7KW9Nh/downloaded_packages\n"
     ]
    }
   ],
   "source": [
    "listings_fac = rDiscretize(listings_n_cat)"
   ]
  },
  {
   "cell_type": "code",
   "execution_count": 7,
   "metadata": {},
   "outputs": [],
   "source": [
    "data_discrete = listings_fac.reset_index(drop=True).join(listing_cat)"
   ]
  },
  {
   "cell_type": "code",
   "execution_count": 8,
   "metadata": {},
   "outputs": [],
   "source": [
    "nodes = ['amenities_score','bathrooms','bedrooms','transitScore','Zestimate','neighbourhood',\n",
    "         'roi','price','minimum_nights_avg_ntm','bikeScore','walkScore','publicSchoolScores',\n",
    "         'property_type','closenessToDowntown','accommodates','beds']"
   ]
  },
  {
   "cell_type": "code",
   "execution_count": 9,
   "metadata": {},
   "outputs": [],
   "source": [
    "edges = [('amenities_score','price'),\n",
    "         ('bathrooms','price'),\n",
    "         ('bathrooms','Zestimate'),\n",
    "         ('bedrooms','price'),\n",
    "         ('bedrooms','beds'),\n",
    "         ('bedrooms','accommodates'),\n",
    "         ('bedrooms','Zestimate'),\n",
    "         ('property_type','price'),\n",
    "         ('property_type','Zestimate'),\n",
    "         ('price','roi'),\n",
    "         ('transitScore','Zestimate'),\n",
    "         ('transitScore','price'),\n",
    "         ('Zestimate', 'price'),\n",
    "         ('Zestimate','roi'),\n",
    "         ('bikeScore','price'),\n",
    "         ('walkScore','price'),\n",
    "         ('beds','price'),\n",
    "         ('accommodates','price'),\n",
    "         ('neighbourhood','price'),\n",
    "         ('neighbourhood','transitScore'),\n",
    "         ('neighbourhood','publicSchoolScores'),\n",
    "         ('neighbourhood','bikeScore'),\n",
    "         ('publicSchoolScores','Zestimate'),\n",
    "         ('neighbourhood','Zestimate'),\n",
    "         ('neighbourhood','closenessToDowntown'),\n",
    "         ('closenessToDowntown','price'),                    \n",
    "         ('minimum_nights_avg_ntm','price')]"
   ]
  },
  {
   "cell_type": "code",
   "execution_count": 10,
   "metadata": {},
   "outputs": [],
   "source": [
    "from pgmpy.models import BayesianModel\n",
    "graph = BayesianModel()\n",
    "\n",
    "graph.add_nodes_from(nodes)\n",
    "graph.add_edges_from(edges)"
   ]
  },
  {
   "cell_type": "code",
   "execution_count": 11,
   "metadata": {},
   "outputs": [],
   "source": [
    "def adjacencyMatrix(edges):\n",
    "    df = pd.DataFrame(edges, columns =['source','target'], dtype = float) \n",
    "    df = pd.crosstab(df.source, df.target)\n",
    "    idx = df.columns.union(df.index)\n",
    "    df2 = df.reindex(index = idx, columns=idx, fill_value=0)\n",
    "    df2.index.name = \"source\"\n",
    "    df2 = df2.rename_axis('target')\n",
    "    return df2"
   ]
  },
  {
   "cell_type": "code",
   "execution_count": 12,
   "metadata": {},
   "outputs": [],
   "source": [
    "adjMat = adjacencyMatrix(edges)"
   ]
  },
  {
   "cell_type": "code",
   "execution_count": 13,
   "metadata": {},
   "outputs": [],
   "source": [
    "# adjMat"
   ]
  },
  {
   "cell_type": "code",
   "execution_count": 14,
   "metadata": {},
   "outputs": [],
   "source": [
    "data_discrete = data_discrete.astype(object)"
   ]
  },
  {
   "cell_type": "code",
   "execution_count": 15,
   "metadata": {},
   "outputs": [],
   "source": [
    "model ={'adjmat':adjMat, 'model':graph}\n",
    "\n",
    "model_update = bnlearn.parameter_learning.fit(model, data_discrete, verbose=1)"
   ]
  },
  {
   "cell_type": "code",
   "execution_count": 16,
   "metadata": {},
   "outputs": [],
   "source": [
    "labels ={}\n",
    "for i in list(model_update['model'].nodes):\n",
    "    labels[i] = model_update['model'].get_cpds(i).state_names[i]"
   ]
  },
  {
   "cell_type": "code",
   "execution_count": 17,
   "metadata": {},
   "outputs": [],
   "source": [
    "params_amenities_score          = torch.tensor(model_update['model'].get_cpds('amenities_score').values.T)\n",
    "params_bathrooms                = torch.tensor(model_update['model'].get_cpds('bathrooms').values.T)\n",
    "params_bedrooms                 = torch.tensor(model_update['model'].get_cpds('bedrooms').values.T)\n",
    "params_minimum_nights_avg_ntm   = torch.tensor(model_update['model'].get_cpds('minimum_nights_avg_ntm').values.T)\n",
    "params_bikeScore                = torch.tensor(model_update['model'].get_cpds('bikeScore').values.T)\n",
    "params_walkScore                = torch.tensor(model_update['model'].get_cpds('walkScore').values.T)\n",
    "params_property_type            = torch.tensor(model_update['model'].get_cpds('property_type').values.T)\n",
    "params_neighbourhood            = torch.tensor(model_update['model'].get_cpds('neighbourhood').values.T)\n",
    "params_accommodates             = torch.tensor(model_update['model'].get_cpds('accommodates').values.T)\n",
    "params_beds                     = torch.tensor(model_update['model'].get_cpds('beds').values.T)\n",
    "params_closenessToDowntown      = torch.tensor(model_update['model'].get_cpds('closenessToDowntown').values.T)\n",
    "params_transitScore             = torch.tensor(model_update['model'].get_cpds('transitScore').values.T)\n",
    "params_publicSchoolScores       = torch.tensor(model_update['model'].get_cpds('publicSchoolScores').values.T)\n",
    "params_Zestimate                = torch.tensor(model_update['model'].get_cpds('Zestimate').values.T)\n",
    "params_price                    = torch.tensor(model_update['model'].get_cpds('price').values.T)\n",
    "params_roi                      = torch.tensor(model_update['model'].get_cpds('roi').values.T)"
   ]
  },
  {
   "cell_type": "code",
   "execution_count": 18,
   "metadata": {},
   "outputs": [],
   "source": [
    "def pyroModel():\n",
    "    amenities_score         = pyro.sample('amenities_score',        dist.Categorical(params_amenities_score))\n",
    "    bathrooms               = pyro.sample('bathrooms',dist.Categorical(params_bathrooms))\n",
    "    bedrooms                = pyro.sample('bedrooms', dist.Categorical(params_bedrooms))\n",
    "    minimum_nights_avg_ntm  = pyro.sample('minimum_nights_avg_ntm', dist.Categorical(params_minimum_nights_avg_ntm))\n",
    "    bikeScore               = pyro.sample('bikeScore',dist.Categorical(params_bikeScore))\n",
    "    walkScore               = pyro.sample('walkScore',              dist.Categorical(params_walkScore))\n",
    "    property_type           = pyro.sample('property_type',          dist.Categorical(params_property_type))\n",
    "    neighbourhood           = pyro.sample('neighbourhood',          dist.Categorical(params_neighbourhood))\n",
    "    accommodates            = pyro.sample('accommodates',           dist.Categorical(params_accommodates[bedrooms]))\n",
    "    beds                    = pyro.sample('beds',dist.Categorical(params_beds[bedrooms]))\n",
    "    closenessToDowntown     = pyro.sample('closenessToDowntown',   dist.Categorical(params_closenessToDowntown[neighbourhood]))\n",
    "    transitScore            = pyro.sample('transitScore',           dist.Categorical(params_transitScore[neighbourhood]))\n",
    "    publicSchoolScores      = pyro.sample('publicSchoolScores',     dist.Categorical(params_publicSchoolScores[neighbourhood]))\n",
    "    Zestimate               = pyro.sample('Zestimate',dist.Categorical(params_Zestimate[transitScore][publicSchoolScores][property_type][neighbourhood][bedrooms][bathrooms]))\n",
    "    price                   = pyro.sample('price',dist.Categorical(params_price[walkScore][transitScore][property_type][neighbourhood][minimum_nights_avg_ntm][closenessToDowntown][bikeScore][beds][bedrooms][bathrooms][amenities_score][accommodates][Zestimate]))\n",
    "    roi                     = pyro.sample('roi',dist.Categorical(params_roi[price][Zestimate]))\n",
    "    return amenities_score,bathrooms,bedrooms,minimum_nights_avg_ntm,bikeScore,walkScore,property_type,neighbourhood,accommodates,beds,closenessToDowntown,transitScore,publicSchoolScores,Zestimate,price,roi"
   ]
  },
  {
   "cell_type": "code",
   "execution_count": 19,
   "metadata": {},
   "outputs": [],
   "source": [
    "#intervention on single node\n",
    "def UsingDo(data,value):\n",
    "    intervention_model = pyro.do(pyroModel, data={data: torch.tensor(value)})\n",
    "    posterior = pyro.infer.Importance(intervention_model, num_samples=5000).run()\n",
    "    marginal = EmpiricalMarginal(posterior,\"roi\")\n",
    "    samples = [marginal().item() for _ in range(1000)]\n",
    "    \n",
    "    unique, counts = np.unique(samples, return_counts=True)\n",
    "    prob = counts[1]/sum(counts)\n",
    "    \n",
    "    return(prob)"
   ]
  },
  {
   "cell_type": "code",
   "execution_count": 24,
   "metadata": {},
   "outputs": [],
   "source": [
    "def UsingConditional(data,value):\n",
    "    conditioned_model = pyro.condition(pyroModel, data={data: torch.tensor(value)})\n",
    "    posterior = pyro.infer.Importance(conditioned_model, num_samples=5000).run()\n",
    "    marginal = EmpiricalMarginal(posterior,\"roi\")\n",
    "    samples = [marginal().item() for _ in range(1000)]\n",
    "    \n",
    "    unique, counts = np.unique(samples, return_counts=True)\n",
    "    prob = counts[1]/sum(counts)\n",
    "  \n",
    "    return(prob)"
   ]
  },
  {
   "cell_type": "code",
   "execution_count": 21,
   "metadata": {},
   "outputs": [
    {
     "name": "stdout",
     "output_type": "stream",
     "text": [
      "(1,2] : 0.356\n",
      "(2,6] : 0.349\n",
      "[0,1] : 0.341\n"
     ]
    }
   ],
   "source": [
    "pyro.set_rng_seed(10)\n",
    "#Probability of ROI fixing the bedrooms using do operator\n",
    "for i in range(len(labels['bedrooms'])):\n",
    "    val = UsingDo('bedrooms', i)\n",
    "    print(labels['bedrooms'][i],':',val)"
   ]
  },
  {
   "cell_type": "code",
   "execution_count": 23,
   "metadata": {},
   "outputs": [
    {
     "name": "stdout",
     "output_type": "stream",
     "text": [
      "(1,2] : 0.324\n",
      "(2,6] : 0.327\n",
      "[0,1] : 0.329\n"
     ]
    }
   ],
   "source": [
    "pyro.set_rng_seed(10)\n",
    "for i in range(len(labels['bedrooms'])):\n",
    "    val = UsingConditional('bedrooms', i)\n",
    "    print(labels['bedrooms'][i],':',val)"
   ]
  },
  {
   "cell_type": "code",
   "execution_count": 25,
   "metadata": {},
   "outputs": [
    {
     "name": "stdout",
     "output_type": "stream",
     "text": [
      "1.0 : 0.354\n",
      "1.5 : 0.348\n",
      "2.0 : 0.342\n",
      "2.5 : 0.311\n",
      "3.0 : 0.309\n"
     ]
    }
   ],
   "source": [
    "pyro.set_rng_seed(10)\n",
    "for i in range(len(labels['bathrooms'])):\n",
    "    val = UsingDo('bathrooms', i)\n",
    "    print(labels['bathrooms'][i],':',val)"
   ]
  },
  {
   "cell_type": "code",
   "execution_count": 26,
   "metadata": {},
   "outputs": [
    {
     "name": "stdout",
     "output_type": "stream",
     "text": [
      "1.0 : 0.323\n",
      "1.5 : 0.327\n",
      "2.0 : 0.327\n",
      "2.5 : 0.325\n",
      "3.0 : 0.341\n"
     ]
    }
   ],
   "source": [
    "pyro.set_rng_seed(10)\n",
    "for i in range(len(labels['bathrooms'])):\n",
    "    val = UsingConditional('bathrooms', i)\n",
    "    print(labels['bathrooms'][i],':',val)"
   ]
  },
  {
   "cell_type": "code",
   "execution_count": 28,
   "metadata": {},
   "outputs": [
    {
     "name": "stdout",
     "output_type": "stream",
     "text": [
      "(30,33] : 0.357\n",
      "(33,52] : 0.35\n",
      "[12,30] : 0.342\n"
     ]
    }
   ],
   "source": [
    "#Probability of ROI fixing the amenities_score using do\n",
    "pyro.set_rng_seed(10)\n",
    "for i in range(len(params_amenities_score)):\n",
    "    val = UsingDo('amenities_score', i)\n",
    "    print(labels['amenities_score'][i],':',val)"
   ]
  },
  {
   "cell_type": "code",
   "execution_count": 30,
   "metadata": {},
   "outputs": [
    {
     "name": "stdout",
     "output_type": "stream",
     "text": [
      "(30,33] : 0.323\n",
      "(33,52] : 0.33\n",
      "[12,30] : 0.327\n"
     ]
    }
   ],
   "source": [
    "pyro.set_rng_seed(10)\n",
    "for i in range(len(params_amenities_score)):\n",
    "    val = UsingConditional('amenities_score', i)\n",
    "    print(labels['amenities_score'][i],':',val)"
   ]
  },
  {
   "cell_type": "code",
   "execution_count": 31,
   "metadata": {},
   "outputs": [
    {
     "name": "stdout",
     "output_type": "stream",
     "text": [
      "3 : 0.357\n",
      "4 : 0.35\n",
      "5 : 0.342\n"
     ]
    }
   ],
   "source": [
    "pyro.set_rng_seed(10)\n",
    "for i in range(len(params_walkScore)):\n",
    "    val = UsingDo('walkScore', i)\n",
    "    print(labels['walkScore'][i],':',val)"
   ]
  },
  {
   "cell_type": "code",
   "execution_count": 32,
   "metadata": {},
   "outputs": [
    {
     "name": "stdout",
     "output_type": "stream",
     "text": [
      "3 : 0.324\n",
      "4 : 0.326\n",
      "5 : 0.329\n"
     ]
    }
   ],
   "source": [
    "pyro.set_rng_seed(10)\n",
    "for i in range(len(params_walkScore)):\n",
    "    val = UsingConditional('walkScore', i)\n",
    "    print(labels['walkScore'][i],':',val)"
   ]
  },
  {
   "cell_type": "code",
   "execution_count": 33,
   "metadata": {},
   "outputs": [
    {
     "name": "stdout",
     "output_type": "stream",
     "text": [
      "1 : 0.357\n",
      "2 : 0.35\n",
      "3 : 0.342\n",
      "4 : 0.312\n"
     ]
    }
   ],
   "source": [
    "pyro.set_rng_seed(10)\n",
    "for i in range(len(params_bikeScore)):\n",
    "    val = UsingDo('bikeScore', i)\n",
    "    print(labels['bikeScore'][i],':',val)"
   ]
  },
  {
   "cell_type": "code",
   "execution_count": 34,
   "metadata": {},
   "outputs": [
    {
     "name": "stdout",
     "output_type": "stream",
     "text": [
      "1 : 0.324\n",
      "2 : 0.326\n",
      "3 : 0.329\n",
      "4 : 0.328\n"
     ]
    }
   ],
   "source": [
    "pyro.set_rng_seed(10)\n",
    "for i in range(len(params_bikeScore)):\n",
    "    val = UsingConditional('bikeScore', i)\n",
    "    print(labels['bikeScore'][i],':',val)"
   ]
  },
  {
   "cell_type": "code",
   "execution_count": 35,
   "metadata": {},
   "outputs": [
    {
     "name": "stdout",
     "output_type": "stream",
     "text": [
      "(2400.33,4704.33] : 0.357\n",
      "(4704.33,19715] : 0.35\n",
      "[898,2400.33] : 0.342\n"
     ]
    }
   ],
   "source": [
    "pyro.set_rng_seed(10)\n",
    "for i in range(len(labels['closenessToDowntown'])):\n",
    "    val = UsingDo('closenessToDowntown', i)\n",
    "    print(labels['closenessToDowntown'][i],':',val)"
   ]
  },
  {
   "cell_type": "code",
   "execution_count": 36,
   "metadata": {},
   "outputs": [
    {
     "name": "stdout",
     "output_type": "stream",
     "text": [
      "(2400.33,4704.33] : 0.324\n",
      "(4704.33,19715] : 0.327\n",
      "[898,2400.33] : 0.347\n"
     ]
    }
   ],
   "source": [
    "pyro.set_rng_seed(10)\n",
    "for i in range(len(labels['closenessToDowntown'])):\n",
    "    val = UsingConditional('closenessToDowntown', i)\n",
    "    print(labels['closenessToDowntown'][i],':',val)"
   ]
  },
  {
   "cell_type": "code",
   "execution_count": 37,
   "metadata": {},
   "outputs": [
    {
     "name": "stdout",
     "output_type": "stream",
     "text": [
      "2 : 0.355\n",
      "3 : 0.348\n",
      "4 : 0.341\n",
      "5 : 0.314\n"
     ]
    }
   ],
   "source": [
    "pyro.set_rng_seed(10)\n",
    "for i in range(len(labels['transitScore'])):\n",
    "    val = UsingDo('transitScore', i)\n",
    "    print(labels['transitScore'][i],':',val)"
   ]
  },
  {
   "cell_type": "code",
   "execution_count": 38,
   "metadata": {},
   "outputs": [
    {
     "name": "stdout",
     "output_type": "stream",
     "text": [
      "2 : 0.353\n",
      "3 : 0.317\n",
      "4 : 0.35\n",
      "5 : 0.326\n"
     ]
    }
   ],
   "source": [
    "for i in range(len(labels['transitScore'])):\n",
    "    val = UsingConditional('transitScore', i)\n",
    "    print(labels['transitScore'][i],':',val)"
   ]
  },
  {
   "cell_type": "code",
   "execution_count": 39,
   "metadata": {},
   "outputs": [
    {
     "name": "stdout",
     "output_type": "stream",
     "text": [
      "(3.47373,3.70142] : 0.354\n",
      "(3.70142,5.27273] : 0.353\n",
      "[2.75,3.47373] : 0.34\n"
     ]
    }
   ],
   "source": [
    "pyro.set_rng_seed(10)\n",
    "for i in range(len(labels['publicSchoolScores'])):\n",
    "    val = UsingDo('publicSchoolScores', i)\n",
    "    print(labels['publicSchoolScores'][i],':',val)"
   ]
  },
  {
   "cell_type": "code",
   "execution_count": 40,
   "metadata": {},
   "outputs": [
    {
     "name": "stdout",
     "output_type": "stream",
     "text": [
      "(3.47373,3.70142] : 0.368\n",
      "(3.70142,5.27273] : 0.341\n",
      "[2.75,3.47373] : 0.354\n"
     ]
    }
   ],
   "source": [
    "pyro.set_rng_seed(10)\n",
    "for i in range(len(labels['publicSchoolScores'])):\n",
    "    val = UsingConditional('publicSchoolScores', i)\n",
    "    print(labels['publicSchoolScores'][i],':',val)"
   ]
  },
  {
   "cell_type": "code",
   "execution_count": 41,
   "metadata": {},
   "outputs": [
    {
     "data": {
      "text/html": [
       "<div>\n",
       "<style scoped>\n",
       "    .dataframe tbody tr th:only-of-type {\n",
       "        vertical-align: middle;\n",
       "    }\n",
       "\n",
       "    .dataframe tbody tr th {\n",
       "        vertical-align: top;\n",
       "    }\n",
       "\n",
       "    .dataframe thead th {\n",
       "        text-align: right;\n",
       "    }\n",
       "</style>\n",
       "<table border=\"1\" class=\"dataframe\">\n",
       "  <thead>\n",
       "    <tr style=\"text-align: right;\">\n",
       "      <th></th>\n",
       "      <th>neighbourhood</th>\n",
       "      <th>simple_ROI</th>\n",
       "      <th>complex_ROI</th>\n",
       "      <th>Causal Effect</th>\n",
       "    </tr>\n",
       "  </thead>\n",
       "  <tbody>\n",
       "    <tr>\n",
       "      <th>0</th>\n",
       "      <td>Allston</td>\n",
       "      <td>0.355</td>\n",
       "      <td>0.349</td>\n",
       "      <td>-0.006</td>\n",
       "    </tr>\n",
       "    <tr>\n",
       "      <th>1</th>\n",
       "      <td>Back Bay</td>\n",
       "      <td>0.340</td>\n",
       "      <td>0.311</td>\n",
       "      <td>-0.029</td>\n",
       "    </tr>\n",
       "    <tr>\n",
       "      <th>2</th>\n",
       "      <td>Bay Village</td>\n",
       "      <td>0.308</td>\n",
       "      <td>0.339</td>\n",
       "      <td>0.031</td>\n",
       "    </tr>\n",
       "    <tr>\n",
       "      <th>3</th>\n",
       "      <td>Beacon Hill</td>\n",
       "      <td>0.333</td>\n",
       "      <td>0.364</td>\n",
       "      <td>0.031</td>\n",
       "    </tr>\n",
       "    <tr>\n",
       "      <th>4</th>\n",
       "      <td>Brighton</td>\n",
       "      <td>0.341</td>\n",
       "      <td>0.327</td>\n",
       "      <td>-0.014</td>\n",
       "    </tr>\n",
       "    <tr>\n",
       "      <th>5</th>\n",
       "      <td>Charlestown</td>\n",
       "      <td>0.308</td>\n",
       "      <td>0.325</td>\n",
       "      <td>0.017</td>\n",
       "    </tr>\n",
       "    <tr>\n",
       "      <th>6</th>\n",
       "      <td>Chinatown</td>\n",
       "      <td>0.326</td>\n",
       "      <td>0.308</td>\n",
       "      <td>-0.018</td>\n",
       "    </tr>\n",
       "    <tr>\n",
       "      <th>7</th>\n",
       "      <td>Dorchester</td>\n",
       "      <td>0.361</td>\n",
       "      <td>0.331</td>\n",
       "      <td>-0.030</td>\n",
       "    </tr>\n",
       "    <tr>\n",
       "      <th>8</th>\n",
       "      <td>Downtown</td>\n",
       "      <td>0.336</td>\n",
       "      <td>0.348</td>\n",
       "      <td>0.012</td>\n",
       "    </tr>\n",
       "    <tr>\n",
       "      <th>9</th>\n",
       "      <td>East Boston</td>\n",
       "      <td>0.335</td>\n",
       "      <td>0.338</td>\n",
       "      <td>0.003</td>\n",
       "    </tr>\n",
       "    <tr>\n",
       "      <th>10</th>\n",
       "      <td>Fenway</td>\n",
       "      <td>0.335</td>\n",
       "      <td>0.326</td>\n",
       "      <td>-0.009</td>\n",
       "    </tr>\n",
       "    <tr>\n",
       "      <th>11</th>\n",
       "      <td>Hyde Park</td>\n",
       "      <td>0.318</td>\n",
       "      <td>0.311</td>\n",
       "      <td>-0.007</td>\n",
       "    </tr>\n",
       "    <tr>\n",
       "      <th>12</th>\n",
       "      <td>Jamaica Plain</td>\n",
       "      <td>0.337</td>\n",
       "      <td>0.332</td>\n",
       "      <td>-0.005</td>\n",
       "    </tr>\n",
       "    <tr>\n",
       "      <th>13</th>\n",
       "      <td>Mission Hill</td>\n",
       "      <td>0.323</td>\n",
       "      <td>0.305</td>\n",
       "      <td>-0.018</td>\n",
       "    </tr>\n",
       "    <tr>\n",
       "      <th>14</th>\n",
       "      <td>North End</td>\n",
       "      <td>0.351</td>\n",
       "      <td>0.352</td>\n",
       "      <td>0.001</td>\n",
       "    </tr>\n",
       "    <tr>\n",
       "      <th>15</th>\n",
       "      <td>Roslindale</td>\n",
       "      <td>0.326</td>\n",
       "      <td>0.337</td>\n",
       "      <td>0.011</td>\n",
       "    </tr>\n",
       "    <tr>\n",
       "      <th>16</th>\n",
       "      <td>Roxbury</td>\n",
       "      <td>0.354</td>\n",
       "      <td>0.326</td>\n",
       "      <td>-0.028</td>\n",
       "    </tr>\n",
       "    <tr>\n",
       "      <th>17</th>\n",
       "      <td>South Boston</td>\n",
       "      <td>0.349</td>\n",
       "      <td>0.313</td>\n",
       "      <td>-0.036</td>\n",
       "    </tr>\n",
       "    <tr>\n",
       "      <th>18</th>\n",
       "      <td>South End</td>\n",
       "      <td>0.333</td>\n",
       "      <td>0.355</td>\n",
       "      <td>0.022</td>\n",
       "    </tr>\n",
       "    <tr>\n",
       "      <th>19</th>\n",
       "      <td>West Roxbury</td>\n",
       "      <td>0.357</td>\n",
       "      <td>0.339</td>\n",
       "      <td>-0.018</td>\n",
       "    </tr>\n",
       "  </tbody>\n",
       "</table>\n",
       "</div>"
      ],
      "text/plain": [
       "    neighbourhood  simple_ROI  complex_ROI  Causal Effect\n",
       "0         Allston       0.355        0.349         -0.006\n",
       "1        Back Bay       0.340        0.311         -0.029\n",
       "2     Bay Village       0.308        0.339          0.031\n",
       "3     Beacon Hill       0.333        0.364          0.031\n",
       "4        Brighton       0.341        0.327         -0.014\n",
       "5     Charlestown       0.308        0.325          0.017\n",
       "6       Chinatown       0.326        0.308         -0.018\n",
       "7      Dorchester       0.361        0.331         -0.030\n",
       "8        Downtown       0.336        0.348          0.012\n",
       "9     East Boston       0.335        0.338          0.003\n",
       "10         Fenway       0.335        0.326         -0.009\n",
       "11      Hyde Park       0.318        0.311         -0.007\n",
       "12  Jamaica Plain       0.337        0.332         -0.005\n",
       "13   Mission Hill       0.323        0.305         -0.018\n",
       "14      North End       0.351        0.352          0.001\n",
       "15     Roslindale       0.326        0.337          0.011\n",
       "16        Roxbury       0.354        0.326         -0.028\n",
       "17   South Boston       0.349        0.313         -0.036\n",
       "18      South End       0.333        0.355          0.022\n",
       "19   West Roxbury       0.357        0.339         -0.018"
      ]
     },
     "execution_count": 41,
     "metadata": {},
     "output_type": "execute_result"
    }
   ],
   "source": [
    "pyro.set_rng_seed(10)\n",
    "new_df = pd.DataFrame(columns=['neighbourhood', 'simple_ROI','complex_ROI','Causal Effect'])\n",
    "for i in range(len(params_neighbourhood)):\n",
    "    intervention_model_simple = pyro.do(pyroModel, data={'neighbourhood': torch.tensor(i)})\n",
    "    posterior_simple = pyro.infer.Importance(intervention_model_simple, num_samples=5000).run()\n",
    "    marginal_simple = EmpiricalMarginal(posterior_simple,\"roi\")\n",
    "    samples_simple = [marginal_simple().item() for _ in range(1000)]\n",
    "    unique, counts = np.unique(samples_simple, return_counts=True)\n",
    "    roi_neigh1 = counts[1]/sum(counts)\n",
    "\n",
    "\n",
    "    intervention_model_complex = pyro.do(pyroModel, data={'neighbourhood': torch.tensor(i),'amenities_score':torch.tensor(0),\\\n",
    "                                                        'bikeScore':torch.tensor(1) ,'walkScore':torch.tensor(0) , \\\n",
    "                                                        'publicSchoolScores':torch.tensor(0), 'transitScore': torch.tensor(0),\\\n",
    "                                                        'closenessToDowntown': torch.tensor(0), 'bedrooms': torch.tensor(0),\\\n",
    "                                                        'bathrooms': torch.tensor(0)} )\n",
    "    posterior_complex = pyro.infer.Importance(intervention_model_complex, num_samples=5000).run()\n",
    "    marginal_complex = EmpiricalMarginal(posterior_complex,\"roi\")\n",
    "    samples_complex = [marginal_complex().item() for _ in range(1000)]\n",
    "    unique, counts = np.unique(samples_complex, return_counts=True)\n",
    "    roi_neigh2 = counts[1]/sum(counts)\n",
    "\n",
    "    new_df.loc[i] = [labels['neighbourhood'][i] , roi_neigh1, roi_neigh2, roi_neigh2-roi_neigh1]\n",
    "\n",
    "\n",
    "new_df"
   ]
  },
  {
   "cell_type": "code",
   "execution_count": 42,
   "metadata": {},
   "outputs": [
    {
     "data": {
      "image/png": "[encoded data removed]",
      "text/plain": [
       "<Figure size 1008x576 with 1 Axes>"
      ]
     },
     "metadata": {
      "needs_background": "light"
     },
     "output_type": "display_data"
    }
   ],
   "source": [
    "pyro.set_rng_seed(10)\n",
    "fig, ax = plt.subplots(figsize=(14,8))\n",
    "new_df.plot.bar(x = 'neighbourhood', y = ['Causal Effect'], rot = 80, ax = ax)\n",
    "for p in ax.patches: \n",
    "    ax.annotate(np.round(p.get_height(),decimals=2), (p.get_x()+p.get_width()/2., p.get_height()))"
   ]
  },
  {
   "cell_type": "code",
   "execution_count": 43,
   "metadata": {},
   "outputs": [
    {
     "data": {
      "text/plain": [
       "0.00379999999999997"
      ]
     },
     "execution_count": 43,
     "metadata": {},
     "output_type": "execute_result"
    }
   ],
   "source": [
    "pyro.set_rng_seed(10)\n",
    "bedbathmodel = pyro.condition(pyroModel, data = {\"bedrooms\": torch.tensor(0),\"bathrooms\":torch.tensor(0)})\n",
    "beds_low = pyro.do(bedbathmodel, data={'beds': torch.tensor(0)})\n",
    "roi_posterior = pyro.infer.Importance(beds_low, num_samples=5000).run()\n",
    "roi_marginal = EmpiricalMarginal(roi_posterior,\"roi\")\n",
    "roi_samples = [roi_marginal().item() for _ in range(5000)]\n",
    "roi_unique, roi_counts = np.unique(roi_samples, return_counts=True)\n",
    "low_beds = roi_counts[1]/sum(roi_counts)\n",
    "\n",
    "beds_high = pyro.do(bedbathmodel, data={'beds': torch.tensor(1)})\n",
    "roi_posterior = pyro.infer.Importance(beds_high, num_samples=5000).run()\n",
    "roi_marginal = EmpiricalMarginal(roi_posterior,\"roi\")\n",
    "roi_samples = [roi_marginal().item() for _ in range(5000)]\n",
    "roi_unique, roi_counts = np.unique(roi_samples, return_counts=True)\n",
    "high_beds = roi_counts[1]/sum(roi_counts)\n",
    "\n",
    "low_beds - high_beds"
   ]
  },
  {
   "cell_type": "code",
   "execution_count": 44,
   "metadata": {},
   "outputs": [],
   "source": [
    "price_downtown = pyro.condition(pyroModel, data = {\"price\": torch.tensor(0),\"closenessToDowntown\":torch.tensor(1)})"
   ]
  },
  {
   "cell_type": "code",
   "execution_count": 45,
   "metadata": {},
   "outputs": [
    {
     "data": {
      "text/plain": [
       "0.019000000000000017"
      ]
     },
     "execution_count": 45,
     "metadata": {},
     "output_type": "execute_result"
    }
   ],
   "source": [
    "pyro.set_rng_seed(10)\n",
    "minnights_low = pyro.do(price_downtown, data={'minimum_nights_avg_ntm': torch.tensor(2)})\n",
    "roi_posterior = pyro.infer.Importance(minnights_low, num_samples=5000).run()\n",
    "roi_marginal = EmpiricalMarginal(roi_posterior,\"roi\")\n",
    "roi_samples = [roi_marginal().item() for _ in range(5000)]\n",
    "roi_unique, roi_counts = np.unique(roi_samples, return_counts=True)\n",
    "minnights_low_val = roi_counts[1]/sum(roi_counts)\n",
    "\n",
    "minnights_high = pyro.do(price_downtown, data={'minimum_nights_avg_ntm': torch.tensor(1)})\n",
    "roi_posterior = pyro.infer.Importance(minnights_high, num_samples=5000).run()\n",
    "roi_marginal = EmpiricalMarginal(roi_posterior,\"roi\")\n",
    "roi_samples = [roi_marginal().item() for _ in range(5000)]\n",
    "roi_unique, roi_counts = np.unique(roi_samples, return_counts=True)\n",
    "minnights_high_val = roi_counts[1]/sum(roi_counts)\n",
    "\n",
    "minnights_high_val - minnights_low_val"
   ]
  },
  {
   "cell_type": "code",
   "execution_count": 46,
   "metadata": {},
   "outputs": [],
   "source": [
    "med_price = pyro.condition(pyroModel, data = {\"price\": torch.tensor(0)})"
   ]
  },
  {
   "cell_type": "code",
   "execution_count": 47,
   "metadata": {},
   "outputs": [
    {
     "data": {
      "text/plain": [
       "0.012199999999999989"
      ]
     },
     "execution_count": 47,
     "metadata": {},
     "output_type": "execute_result"
    }
   ],
   "source": [
    "pyro.set_rng_seed(10)\n",
    "accommodates_low = pyro.do(med_price, data={'accommodates': torch.tensor(2)})\n",
    "roi_posterior = pyro.infer.Importance(accommodates_low, num_samples=5000).run()\n",
    "roi_marginal = EmpiricalMarginal(roi_posterior,\"roi\")\n",
    "roi_samples = [roi_marginal().item() for _ in range(5000)]\n",
    "roi_unique, roi_counts = np.unique(roi_samples, return_counts=True)\n",
    "roi_accommodates_low = roi_counts[1]/sum(roi_counts)\n",
    "\n",
    "accommodates_high = pyro.do(med_price, data={'accommodates': torch.tensor(1)})\n",
    "roi_posterior = pyro.infer.Importance(accommodates_high, num_samples=5000).run()\n",
    "roi_marginal = EmpiricalMarginal(roi_posterior,\"roi\")\n",
    "roi_samples = [roi_marginal().item() for _ in range(5000)]\n",
    "roi_unique, roi_counts = np.unique(roi_samples, return_counts=True)\n",
    "roi_accommodates_high = roi_counts[1]/sum(roi_counts)\n",
    "\n",
    "roi_accommodates_high - roi_accommodates_low"
   ]
  },
  {
   "cell_type": "code",
   "execution_count": 48,
   "metadata": {},
   "outputs": [],
   "source": [
    "bedrooms_med = pyro.condition(pyroModel, data = {\"bedrooms\": torch.tensor(0)})"
   ]
  },
  {
   "cell_type": "code",
   "execution_count": 49,
   "metadata": {},
   "outputs": [
    {
     "data": {
      "text/plain": [
       "-0.0005999999999999894"
      ]
     },
     "execution_count": 49,
     "metadata": {},
     "output_type": "execute_result"
    }
   ],
   "source": [
    "pyro.set_rng_seed(10)\n",
    "accommodates_low = pyro.do(bedrooms_med, data={'accommodates': torch.tensor(2)})\n",
    "roi_posterior = pyro.infer.Importance(accommodates_low, num_samples=5000).run()\n",
    "roi_marginal = EmpiricalMarginal(roi_posterior,\"roi\")\n",
    "roi_samples = [roi_marginal().item() for _ in range(5000)]\n",
    "roi_unique, roi_counts = np.unique(roi_samples, return_counts=True)\n",
    "bedrooms_accommodates_low = roi_counts[1]/sum(roi_counts)\n",
    "\n",
    "accommodates_high = pyro.do(bedrooms_med, data={'accommodates': torch.tensor(0)})\n",
    "roi_posterior = pyro.infer.Importance(accommodates_high, num_samples=5000).run()\n",
    "roi_marginal = EmpiricalMarginal(roi_posterior,\"roi\")\n",
    "roi_samples = [roi_marginal().item() for _ in range(5000)]\n",
    "roi_unique, roi_counts = np.unique(roi_samples, return_counts=True)\n",
    "bedrooms_accommodates_high = roi_counts[1]/sum(roi_counts)\n",
    "\n",
    "bedrooms_accommodates_high - bedrooms_accommodates_low"
   ]
  },
  {
   "cell_type": "code",
   "execution_count": 50,
   "metadata": {},
   "outputs": [],
   "source": [
    "neigh_downtown = pyro.condition(pyroModel, data = {\"neighbourhood\": torch.tensor(5)})"
   ]
  },
  {
   "cell_type": "code",
   "execution_count": 51,
   "metadata": {},
   "outputs": [
    {
     "data": {
      "text/plain": [
       "0.0020000000000000018"
      ]
     },
     "execution_count": 51,
     "metadata": {},
     "output_type": "execute_result"
    }
   ],
   "source": [
    "pyro.set_rng_seed(10)\n",
    "pss_low = pyro.do(neigh_downtown, data={'publicSchoolScores': torch.tensor(2)})\n",
    "roi_posterior = pyro.infer.Importance(pss_low, num_samples=5000).run()\n",
    "roi_marginal = EmpiricalMarginal(roi_posterior,\"roi\")\n",
    "roi_samples = [roi_marginal().item() for _ in range(5000)]\n",
    "roi_unique, roi_counts = np.unique(roi_samples, return_counts=True)\n",
    "downtown_pss_low = roi_counts[1]/sum(roi_counts)\n",
    "\n",
    "pss_high = pyro.do(neigh_downtown, data={'publicSchoolScores': torch.tensor(1)})\n",
    "roi_posterior = pyro.infer.Importance(pss_high, num_samples=5000).run()\n",
    "roi_marginal = EmpiricalMarginal(roi_posterior,\"roi\")\n",
    "roi_samples = [roi_marginal().item() for _ in range(5000)]\n",
    "roi_unique, roi_counts = np.unique(roi_samples, return_counts=True)\n",
    "downtown_pss_high = roi_counts[1]/sum(roi_counts)\n",
    "\n",
    "downtown_pss_low - downtown_pss_high"
   ]
  },
  {
   "cell_type": "code",
   "execution_count": 54,
   "metadata": {},
   "outputs": [],
   "source": [
    "mobility = \"/Users/abdulrehman/Downloads/Region_Mobility_Report_CSVs/2020_US_Region_Mobility_Report.csv\"\n",
    "mobility = pd.read_csv(mobility)"
   ]
  },
  {
   "cell_type": "code",
   "execution_count": 64,
   "metadata": {},
   "outputs": [
    {
     "ename": "KeyError",
     "evalue": "False",
     "output_type": "error",
     "traceback": [
      "\u001b[0;31m---------------------------------------------------------------------------\u001b[0m",
      "\u001b[0;31mKeyError\u001b[0m                                  Traceback (most recent call last)",
      "\u001b[0;32m~/opt/anaconda3/envs/Airbnb_Analysis/lib/python3.8/site-packages/pandas/core/indexes/base.py\u001b[0m in \u001b[0;36mget_loc\u001b[0;34m(self, key, method, tolerance)\u001b[0m\n\u001b[1;32m   2894\u001b[0m             \u001b[0;32mtry\u001b[0m\u001b[0;34m:\u001b[0m\u001b[0;34m\u001b[0m\u001b[0;34m\u001b[0m\u001b[0m\n\u001b[0;32m-> 2895\u001b[0;31m                 \u001b[0;32mreturn\u001b[0m \u001b[0mself\u001b[0m\u001b[0;34m.\u001b[0m\u001b[0m_engine\u001b[0m\u001b[0;34m.\u001b[0m\u001b[0mget_loc\u001b[0m\u001b[0;34m(\u001b[0m\u001b[0mcasted_key\u001b[0m\u001b[0;34m)\u001b[0m\u001b[0;34m\u001b[0m\u001b[0;34m\u001b[0m\u001b[0m\n\u001b[0m\u001b[1;32m   2896\u001b[0m             \u001b[0;32mexcept\u001b[0m \u001b[0mKeyError\u001b[0m \u001b[0;32mas\u001b[0m \u001b[0merr\u001b[0m\u001b[0;34m:\u001b[0m\u001b[0;34m\u001b[0m\u001b[0;34m\u001b[0m\u001b[0m\n",
      "\u001b[0;32mpandas/_libs/index.pyx\u001b[0m in \u001b[0;36mpandas._libs.index.IndexEngine.get_loc\u001b[0;34m()\u001b[0m\n",
      "\u001b[0;32mpandas/_libs/index.pyx\u001b[0m in \u001b[0;36mpandas._libs.index.IndexEngine.get_loc\u001b[0;34m()\u001b[0m\n",
      "\u001b[0;32mpandas/_libs/hashtable_class_helper.pxi\u001b[0m in \u001b[0;36mpandas._libs.hashtable.PyObjectHashTable.get_item\u001b[0;34m()\u001b[0m\n",
      "\u001b[0;32mpandas/_libs/hashtable_class_helper.pxi\u001b[0m in \u001b[0;36mpandas._libs.hashtable.PyObjectHashTable.get_item\u001b[0;34m()\u001b[0m\n",
      "\u001b[0;31mKeyError\u001b[0m: False",
      "\nThe above exception was the direct cause of the following exception:\n",
      "\u001b[0;31mKeyError\u001b[0m                                  Traceback (most recent call last)",
      "\u001b[0;32m<ipython-input-64-5d6f98351d31>\u001b[0m in \u001b[0;36m<module>\u001b[0;34m\u001b[0m\n\u001b[0;32m----> 1\u001b[0;31m \u001b[0mmobility\u001b[0m\u001b[0;34m=\u001b[0m \u001b[0mmobility\u001b[0m\u001b[0;34m[\u001b[0m\u001b[0;34m'sub_region_2'\u001b[0m\u001b[0;34m==\u001b[0m\u001b[0;34m'Massachusetts'\u001b[0m\u001b[0;34m]\u001b[0m\u001b[0;34m\u001b[0m\u001b[0;34m\u001b[0m\u001b[0m\n\u001b[0m",
      "\u001b[0;32m~/opt/anaconda3/envs/Airbnb_Analysis/lib/python3.8/site-packages/pandas/core/frame.py\u001b[0m in \u001b[0;36m__getitem__\u001b[0;34m(self, key)\u001b[0m\n\u001b[1;32m   2904\u001b[0m             \u001b[0;32mif\u001b[0m \u001b[0mself\u001b[0m\u001b[0;34m.\u001b[0m\u001b[0mcolumns\u001b[0m\u001b[0;34m.\u001b[0m\u001b[0mnlevels\u001b[0m \u001b[0;34m>\u001b[0m \u001b[0;36m1\u001b[0m\u001b[0;34m:\u001b[0m\u001b[0;34m\u001b[0m\u001b[0;34m\u001b[0m\u001b[0m\n\u001b[1;32m   2905\u001b[0m                 \u001b[0;32mreturn\u001b[0m \u001b[0mself\u001b[0m\u001b[0;34m.\u001b[0m\u001b[0m_getitem_multilevel\u001b[0m\u001b[0;34m(\u001b[0m\u001b[0mkey\u001b[0m\u001b[0;34m)\u001b[0m\u001b[0;34m\u001b[0m\u001b[0;34m\u001b[0m\u001b[0m\n\u001b[0;32m-> 2906\u001b[0;31m             \u001b[0mindexer\u001b[0m \u001b[0;34m=\u001b[0m \u001b[0mself\u001b[0m\u001b[0;34m.\u001b[0m\u001b[0mcolumns\u001b[0m\u001b[0;34m.\u001b[0m\u001b[0mget_loc\u001b[0m\u001b[0;34m(\u001b[0m\u001b[0mkey\u001b[0m\u001b[0;34m)\u001b[0m\u001b[0;34m\u001b[0m\u001b[0;34m\u001b[0m\u001b[0m\n\u001b[0m\u001b[1;32m   2907\u001b[0m             \u001b[0;32mif\u001b[0m \u001b[0mis_integer\u001b[0m\u001b[0;34m(\u001b[0m\u001b[0mindexer\u001b[0m\u001b[0;34m)\u001b[0m\u001b[0;34m:\u001b[0m\u001b[0;34m\u001b[0m\u001b[0;34m\u001b[0m\u001b[0m\n\u001b[1;32m   2908\u001b[0m                 \u001b[0mindexer\u001b[0m \u001b[0;34m=\u001b[0m \u001b[0;34m[\u001b[0m\u001b[0mindexer\u001b[0m\u001b[0;34m]\u001b[0m\u001b[0;34m\u001b[0m\u001b[0;34m\u001b[0m\u001b[0m\n",
      "\u001b[0;32m~/opt/anaconda3/envs/Airbnb_Analysis/lib/python3.8/site-packages/pandas/core/indexes/base.py\u001b[0m in \u001b[0;36mget_loc\u001b[0;34m(self, key, method, tolerance)\u001b[0m\n\u001b[1;32m   2895\u001b[0m                 \u001b[0;32mreturn\u001b[0m \u001b[0mself\u001b[0m\u001b[0;34m.\u001b[0m\u001b[0m_engine\u001b[0m\u001b[0;34m.\u001b[0m\u001b[0mget_loc\u001b[0m\u001b[0;34m(\u001b[0m\u001b[0mcasted_key\u001b[0m\u001b[0;34m)\u001b[0m\u001b[0;34m\u001b[0m\u001b[0;34m\u001b[0m\u001b[0m\n\u001b[1;32m   2896\u001b[0m             \u001b[0;32mexcept\u001b[0m \u001b[0mKeyError\u001b[0m \u001b[0;32mas\u001b[0m \u001b[0merr\u001b[0m\u001b[0;34m:\u001b[0m\u001b[0;34m\u001b[0m\u001b[0;34m\u001b[0m\u001b[0m\n\u001b[0;32m-> 2897\u001b[0;31m                 \u001b[0;32mraise\u001b[0m \u001b[0mKeyError\u001b[0m\u001b[0;34m(\u001b[0m\u001b[0mkey\u001b[0m\u001b[0;34m)\u001b[0m \u001b[0;32mfrom\u001b[0m \u001b[0merr\u001b[0m\u001b[0;34m\u001b[0m\u001b[0;34m\u001b[0m\u001b[0m\n\u001b[0m\u001b[1;32m   2898\u001b[0m \u001b[0;34m\u001b[0m\u001b[0m\n\u001b[1;32m   2899\u001b[0m         \u001b[0;32mif\u001b[0m \u001b[0mtolerance\u001b[0m \u001b[0;32mis\u001b[0m \u001b[0;32mnot\u001b[0m \u001b[0;32mNone\u001b[0m\u001b[0;34m:\u001b[0m\u001b[0;34m\u001b[0m\u001b[0;34m\u001b[0m\u001b[0m\n",
      "\u001b[0;31mKeyError\u001b[0m: False"
     ]
    }
   ],
   "source": [
    "mobility= mobility['sub_region_2'=='Massachusetts']"
   ]
  },
  {
   "cell_type": "code",
   "execution_count": null,
   "metadata": {},
   "outputs": [],
   "source": []
  }
 ],
 "metadata": {
  "kernelspec": {
   "display_name": "Python [conda env:Airbnb_Analysis] *",
   "language": "python",
   "name": "conda-env-Airbnb_Analysis-py"
  },
  "language_info": {
   "codemirror_mode": {
    "name": "ipython",
    "version": 3
   },
   "file_extension": ".py",
   "mimetype": "text/x-python",
   "name": "python",
   "nbconvert_exporter": "python",
   "pygments_lexer": "ipython3",
   "version": "3.8.5"
  }
 },
 "nbformat": 4,
 "nbformat_minor": 4
}
