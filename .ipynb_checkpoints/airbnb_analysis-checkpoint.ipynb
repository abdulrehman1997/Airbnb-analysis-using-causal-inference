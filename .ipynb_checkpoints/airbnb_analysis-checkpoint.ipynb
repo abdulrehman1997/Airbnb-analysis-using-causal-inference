{
 "cells": [
  {
   "cell_type": "code",
   "execution_count": 1,
   "metadata": {},
   "outputs": [],
   "source": [
    "import pandas as pd\n",
    "import herepy\n",
    "from tqdm.notebook import tqdm\n",
    "from collections import defaultdict\n",
    "import re\n",
    "import requests\n",
    "import urllib\n",
    "import xmltodict\n",
    "import json\n",
    "import numpy as np\n",
    "#packages for R in python\n",
    "import rpy2.robjects as ro\n",
    "from rpy2.robjects import r, pandas2ri\n",
    "from rpy2.robjects.packages import importr\n",
    "#CPD\n",
    "from pgmpy.models import BayesianModel\n",
    "import pgmpy\n",
    "# from pgmpy.estimators import ConstraintBasedEstimator\n",
    "#bnlearn\n",
    "import bnlearn\n",
    "import torch\n",
    "import pyro\n",
    "import pyro.distributions as dist\n",
    "from statistics import mean\n",
    "from pyro.infer import Importance, EmpiricalMarginal\n",
    "import matplotlib.pyplot as plt\n",
    "from collections import defaultdict\n",
    "from IPython.display import Image\n",
    "\n",
    "%matplotlib inline"
   ]
  },
  {
   "cell_type": "code",
   "execution_count": null,
   "metadata": {},
   "outputs": [],
   "source": [
    "listings_full = pd.read_csv('data/listings_full.csv')"
   ]
  },
  {
   "cell_type": "code",
   "execution_count": null,
   "metadata": {},
   "outputs": [],
   "source": [
    "import geopandas as gpd\n",
    "import geopy\n",
    "from geopy.geocoders import Nominatim\n",
    "from geopy.extra.rate_limiter import RateLimiter\n",
    "\n",
    "def herePy(coordinate1,coordinate2):\n",
    "    coordinates = coordinate1+','+coordinate2\n",
    "    locator = Nominatim(user_agent=\"myGeocoder\")\n",
    "    address = locator.reverse(coordinates)\n",
    "    address = address.raw\n",
    "    return pd.Series([address.get('display_name',None),\n",
    "                      address['address'].get('house_number',address['address'].get('building',None)),\n",
    "                      address['address'].get('road',None),\n",
    "                      address['address'].get('country',None),\n",
    "                      address['address'].get('postcode',None)],\n",
    "                     index=['Address','House','Street','Country',\n",
    "                            'PostalCode'])"
   ]
  },
  {
   "cell_type": "code",
   "execution_count": null,
   "metadata": {},
   "outputs": [],
   "source": [
    "tqdm.pandas()\n",
    "\n",
    "listings_full[['Address','HouseNumber','Street','Country','PostalCode']] = listings_full.progress_apply(lambda row: herePy(str(row['latitude']), str(row['longitude'])) , axis=1)"
   ]
  },
  {
   "cell_type": "code",
   "execution_count": null,
   "metadata": {},
   "outputs": [],
   "source": [
    "listings_full['Street'].unique()"
   ]
  },
  {
   "cell_type": "code",
   "execution_count": null,
   "metadata": {},
   "outputs": [],
   "source": [
    "listings_subset = listings_full[['id','Zestimate','bedrooms','bathrooms','beds','accommodates','amenities_score',\n",
    "               'bikeScore','walkScore','transitScore','neighbourhood_cleansed','property_type',\n",
    "               'publicSchoolScores','closenessToDowntown','price','minimum_nights_avg_ntm','roi','Street']]\n",
    "\n",
    "pd.options.mode.chained_assignment = None\n",
    "listings_subset['property_type'] = listings_subset['property_type'].astype('category')\n",
    "listings_subset['bathrooms'] = listings_subset['bathrooms'].astype('category')\n",
    "listings_subset['neighbourhood'] = listings_subset['neighbourhood_cleansed'].astype('category')\n",
    "listings_subset['street'] = listings_subset['Street'].astype('category')\n",
    "del listings_subset['neighbourhood_cleansed']\n",
    "del listings_subset['Street']\n",
    "\n",
    "listings_subset['roi'] = listings_subset['roi'].astype('float')\n",
    "listings_subset['Zestimate'] = listings_subset['Zestimate'].astype('float')\n",
    "listings_subset['bedrooms'] = listings_subset['bedrooms'].astype('float')\n",
    "listings_subset['beds'] = listings_subset['beds'].astype('float')\n",
    "listings_subset['accommodates'] = listings_subset['accommodates'].astype('float')\n",
    "listings_subset['amenities_score'] = listings_subset['amenities_score'].astype('float')\n",
    "listings_subset['publicSchoolScores'] = listings_subset['publicSchoolScores'].astype('float')\n",
    "listings_subset['closenessToDowntown'] = listings_subset['closenessToDowntown'].astype('float')\n",
    "listings_subset['price'] = listings_subset['price'].astype('float')\n",
    "listings_subset['minimum_nights_avg_ntm'] = listings_subset['minimum_nights_avg_ntm'].astype('float')\n",
    "pd.options.mode.chained_assignment = 'warn'"
   ]
  },
  {
   "cell_type": "code",
   "execution_count": null,
   "metadata": {},
   "outputs": [],
   "source": [
    "listing_cat = listings_subset[['bathrooms','bikeScore','walkScore','transitScore','property_type','neighbourhood','street']]\n",
    "listings_n_cat = listings_subset[['roi','Zestimate','bedrooms','beds','accommodates','amenities_score','publicSchoolScores','closenessToDowntown','price','minimum_nights_avg_ntm']]"
   ]
  },
  {
   "cell_type": "code",
   "execution_count": null,
   "metadata": {},
   "outputs": [],
   "source": [
    "def rDiscretize(data):\n",
    "    utils = importr('utils')\n",
    "    utils.install_packages('bnlearn')\n",
    "    # utils.install_packages('base')\n",
    "    bnlearnR = importr('bnlearn')\n",
    "    bnDiscretize = bnlearnR.discretize\n",
    "    # Import Functions\n",
    "    pandas2ri.activate()\n",
    "    r_dt = ro.conversion.py2rpy(data) #convert pandas to RDataframe\n",
    "    r_dt2 = bnDiscretize(r_dt,method= \"hartemink\", breaks = 3, ibreaks=3)\n",
    "    pd_dt = ro.conversion.rpy2py(r_dt2)\n",
    "    pd_dt.reset_index(drop=True)\n",
    "    return pd_dt"
   ]
  },
  {
   "cell_type": "code",
   "execution_count": null,
   "metadata": {},
   "outputs": [],
   "source": [
    "listings_fac = rDiscretize(listings_n_cat)"
   ]
  },
  {
   "cell_type": "code",
   "execution_count": null,
   "metadata": {},
   "outputs": [],
   "source": [
    "data_discrete = listings_fac.reset_index(drop=True).join(listing_cat)\n",
    "data_discrete"
   ]
  },
  {
   "cell_type": "code",
   "execution_count": null,
   "metadata": {},
   "outputs": [],
   "source": [
    "data_discrete.to_csv('data/final.csv')"
   ]
  },
  {
   "cell_type": "code",
   "execution_count": 2,
   "metadata": {},
   "outputs": [],
   "source": [
    "data_discrete = pd.read_csv('data/final.csv')"
   ]
  },
  {
   "cell_type": "code",
   "execution_count": 3,
   "metadata": {},
   "outputs": [],
   "source": [
    "nodes = ['amenities_score','bathrooms','bedrooms','transitScore','Zestimate','neighbourhood',\n",
    "         'roi','price','minimum_nights_avg_ntm','bikeScore','walkScore','publicSchoolScores',\n",
    "         'property_type','closenessToDowntown','accommodates','beds','street']\n",
    "edges = [('amenities_score','price'),\n",
    "         ('bathrooms','price'),\n",
    "         ('bathrooms','Zestimate'),\n",
    "         ('bedrooms','price'),\n",
    "         ('bedrooms','beds'),\n",
    "         ('bedrooms','accommodates'),\n",
    "         ('bedrooms','Zestimate'),\n",
    "         ('property_type','price'),\n",
    "         ('property_type','Zestimate'),\n",
    "         ('price','roi'),\n",
    "         ('transitScore','Zestimate'),\n",
    "         ('transitScore','price'),\n",
    "         ('Zestimate', 'price'),\n",
    "         ('Zestimate','roi'),\n",
    "         ('bikeScore','price'),\n",
    "         ('walkScore','price'),\n",
    "         ('beds','price'),\n",
    "         ('accommodates','price'),\n",
    "         ('neighbourhood','street'),\n",
    "         ('street','price'),\n",
    "         ('street','transitScore'),\n",
    "         ('street','publicSchoolScores'),\n",
    "         ('street','bikeScore'),\n",
    "         ('street','walkScore'),\n",
    "         ('publicSchoolScores','Zestimate'),\n",
    "         ('street','Zestimate'),\n",
    "         ('street','closenessToDowntown'),\n",
    "         ('closenessToDowntown','price'),                    \n",
    "         ('minimum_nights_avg_ntm','price')]"
   ]
  },
  {
   "cell_type": "code",
   "execution_count": 4,
   "metadata": {},
   "outputs": [],
   "source": [
    "from pgmpy.models import BayesianModel\n",
    "graph = BayesianModel()\n",
    "\n",
    "graph.add_nodes_from(nodes)\n",
    "graph.add_edges_from(edges)"
   ]
  },
  {
   "cell_type": "code",
   "execution_count": 5,
   "metadata": {},
   "outputs": [
    {
     "data": {
      "image/png": "[encoded data removed]",
      "text/plain": [
       "<Figure size 432x288 with 1 Axes>"
      ]
     },
     "metadata": {},
     "output_type": "display_data"
    },
    {
     "data": {
      "text/plain": [
       "<Figure size 14400x7200 with 0 Axes>"
      ]
     },
     "metadata": {},
     "output_type": "display_data"
    }
   ],
   "source": [
    "import networkx as nx\n",
    "import pydot\n",
    "\n",
    "DAG_11 = nx.DiGraph()\n",
    "DAG_11.add_edges_from(edges)\n",
    "pos_11 = nx.nx_pydot.graphviz_layout(DAG_11, prog='dot')\n",
    "nx.draw(DAG_11, pos=pos_11, with_labels=True)\n",
    "plt.figure(figsize=(200,100))\n",
    "plt.show()"
   ]
  },
  {
   "cell_type": "code",
   "execution_count": 6,
   "metadata": {},
   "outputs": [],
   "source": [
    "def adjacencyMatrix(edges):\n",
    "    df = pd.DataFrame(edges, columns =['source','target'], dtype = float) \n",
    "    df = pd.crosstab(df.source, df.target)\n",
    "    idx = df.columns.union(df.index)\n",
    "    df2 = df.reindex(index = idx, columns=idx, fill_value=0)\n",
    "    df2.index.name = \"source\"\n",
    "    df2 = df2.rename_axis('target')\n",
    "    return df2"
   ]
  },
  {
   "cell_type": "code",
   "execution_count": 7,
   "metadata": {},
   "outputs": [],
   "source": [
    "adjMat = adjacencyMatrix(edges)"
   ]
  },
  {
   "cell_type": "code",
   "execution_count": null,
   "metadata": {},
   "outputs": [],
   "source": [
    "adjMat"
   ]
  },
  {
   "cell_type": "code",
   "execution_count": null,
   "metadata": {},
   "outputs": [],
   "source": [
    "data_discrete = data_discrete.astype(object)\n",
    "model ={'adjmat':adjMat, 'model':graph}\n",
    "\n",
    "model_update = bnlearn.parameter_learning.fit(model, data_discrete, verbose=1)"
   ]
  },
  {
   "cell_type": "code",
   "execution_count": null,
   "metadata": {},
   "outputs": [],
   "source": []
  },
  {
   "cell_type": "code",
   "execution_count": null,
   "metadata": {},
   "outputs": [],
   "source": []
  }
 ],
 "metadata": {
  "kernelspec": {
   "display_name": "Python [conda env:Airbnb_Analysis] *",
   "language": "python",
   "name": "conda-env-Airbnb_Analysis-py"
  },
  "language_info": {
   "codemirror_mode": {
    "name": "ipython",
    "version": 3
   },
   "file_extension": ".py",
   "mimetype": "text/x-python",
   "name": "python",
   "nbconvert_exporter": "python",
   "pygments_lexer": "ipython3",
   "version": "3.8.5"
  }
 },
 "nbformat": 4,
 "nbformat_minor": 4
}
